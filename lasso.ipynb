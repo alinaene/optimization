{
 "cells": [
  {
   "cell_type": "code",
   "execution_count": null,
   "metadata": {},
   "outputs": [],
   "source": [
    "# CS 531 Spring 2020\n",
    "# Author: Alina Ene (aene@bu.edu)"
   ]
  },
  {
   "cell_type": "markdown",
   "metadata": {},
   "source": [
    "# Applications in statistics and machine learning"
   ]
  },
  {
   "cell_type": "markdown",
   "metadata": {},
   "source": [
    "Least squares, least absolute shrinkage and selection operator (LASSO)"
   ]
  },
  {
   "cell_type": "markdown",
   "metadata": {},
   "source": [
    "We will be using cvxpy to solve the LASSO optimization. The default solver for cvxpy is numerically unstable, so we will use the CVXOPT solver instead. We can specify the solver to cvxpy as follows:\n",
    "\n",
    "$\\texttt{prob.solve(solver=CVXOPT)}$\n",
    "\n",
    "If you are running this notebook on your machine, you will need to install cvxpy and cvxopt. You can install them using conda as follows:\n",
    "\n",
    "$\\texttt{conda install -c cvxgrp cvxpy libgcc}$\n",
    "\n",
    "$\\texttt{conda install -c anaconda cvxopt}$"
   ]
  },
  {
   "cell_type": "code",
   "execution_count": 41,
   "metadata": {
    "collapsed": true,
    "scrolled": true
   },
   "outputs": [],
   "source": [
    "import cvxpy as cvx\n",
    "import numpy as np\n",
    "from numpy import linalg\n",
    "from cvxpy import *\n",
    "import matplotlib.pyplot as plt"
   ]
  },
  {
   "cell_type": "markdown",
   "metadata": {},
   "source": [
    "## Least squares\n",
    "Recall that, in the least squares problem, we are given $A \\in \\mathbb{R}^{m \\times n}$, $b \\in \\mathbb{R}^m$, and the goal is to solve the problem\n",
    "$$\n",
    "\\min_{x \\in \\mathbb{R}^n} \\|Ax - b\\|^2 = \\min_{x \\in \\mathbb{R}^n} \\sum_{i = 1}^m (a_i^T x - b_i)^2 \n",
    "$$\n",
    "where $a_i^T$ is the $i$-th row of $A$."
   ]
  },
  {
   "cell_type": "code",
   "execution_count": 42,
   "metadata": {
    "collapsed": true
   },
   "outputs": [],
   "source": [
    "# generate a random instance\n",
    "def random_instance(m, n):\n",
    "    A = np.random.randn(m,n)\n",
    "    b = np.random.randn(m,1)\n",
    "    return (A, b)"
   ]
  },
  {
   "cell_type": "code",
   "execution_count": 43,
   "metadata": {
    "collapsed": true
   },
   "outputs": [],
   "source": [
    "# solve a least squares instance using CVX\n",
    "def solve_least_squares(A, b):\n",
    "    x = cvx.Variable(len(A[0]))\n",
    "    obj = cvx.Minimize(cvx.norm(A*x - b))\n",
    "    prob = cvx.Problem(obj)\n",
    "    prob.solve(solver=CVXOPT)\n",
    "    return (prob.value, x, prob.status)"
   ]
  },
  {
   "cell_type": "code",
   "execution_count": 44,
   "metadata": {},
   "outputs": [
    {
     "name": "stdout",
     "output_type": "stream",
     "text": [
      "status: optimal\n",
      "optimal value 3.4295091476370145\n",
      "optimal var [[ 0.12187844]\n",
      " [-0.1258244 ]\n",
      " [ 0.0444059 ]\n",
      " [ 0.20489149]\n",
      " [ 0.30398088]\n",
      " [-0.19723836]\n",
      " [ 0.20083373]\n",
      " [ 0.52730448]]\n"
     ]
    }
   ],
   "source": [
    "# run least squares on a random instance\n",
    "(A, b) = random_instance(16, 8)\n",
    "(value, x, status) = solve_least_squares(A, b)\n",
    "\n",
    "print(\"status:\", status)\n",
    "print(\"optimal value\", value)\n",
    "print(\"optimal var\", x.value)"
   ]
  },
  {
   "cell_type": "markdown",
   "metadata": {},
   "source": [
    "## LASSO\n",
    "In the LASSO problem, we are solving a variation of the least squares problem where the objective has an additional term that encourages the solution to be sparse (have a small number of non-zeros).\n",
    "$$\n",
    "    \\min_{x \\in \\mathbb{R}^n} \\|Ax - b\\|^2 + \\gamma \\cdot \\|x\\|^2_1\n",
    "$$\n",
    "$\\gamma > 0$ is a positive value that we choose (more on how to set $\\gamma$ later)."
   ]
  },
  {
   "cell_type": "code",
   "execution_count": 45,
   "metadata": {
    "collapsed": true
   },
   "outputs": [],
   "source": [
    "# solve a LASSO instance using CVX\n",
    "def solve_lasso(A, b, gamma_value):\n",
    "    gamma = cvx.Parameter(sign=\"positive\", value=gamma_value)\n",
    "    x = cvx.Variable(len(A[0]))\n",
    "    obj = cvx.Minimize((cvx.norm(A*x - b))**2+gamma*(cvx.norm(x,1))**2)\n",
    "    prob = cvx.Problem(obj)\n",
    "    prob.solve(solver=CVXOPT)  \n",
    "    return (prob.value, x, prob.status)"
   ]
  },
  {
   "cell_type": "code",
   "execution_count": 46,
   "metadata": {},
   "outputs": [
    {
     "name": "stdout",
     "output_type": "stream",
     "text": [
      "status: optimal\n",
      "optimal value 4.854015704236237\n",
      "optimal var [[-0.47171799]\n",
      " [ 0.00927019]\n",
      " [-0.02328763]\n",
      " [ 0.63281547]\n",
      " [ 0.01590656]\n",
      " [-0.6108903 ]\n",
      " [-0.39388531]\n",
      " [-0.05401183]]\n"
     ]
    }
   ],
   "source": [
    "# run lasso on a random instance\n",
    "(A, b) = random_instance(16, 8)\n",
    "(value, x, status) = solve_lasso(A, b, 0.1)\n",
    "\n",
    "print(\"status:\", status)\n",
    "print(\"optimal value\", value)\n",
    "print(\"optimal var\", x.value)"
   ]
  },
  {
   "cell_type": "markdown",
   "metadata": {},
   "source": [
    "Let us now consider varying $\\gamma$ and see what happens to the least squares error term $\\|Ax - b\\|^2$ and the number of non-zeros. Given the LASSO solution $x$, we will threshold down to $0$ all of the entries of $x$ that are at most $0.1$."
   ]
  },
  {
   "cell_type": "code",
   "execution_count": 47,
   "metadata": {
    "collapsed": true
   },
   "outputs": [],
   "source": [
    "def gamma_range(start, end, step):\n",
    "    gamma = start\n",
    "    while gamma < end:\n",
    "        yield gamma\n",
    "        gamma += step\n",
    "\n",
    "# set each entry of x that is smaller than 0.1 to 0\n",
    "def round_down(x):\n",
    "    x_rounded = [0 for i in range(len(x))]\n",
    "    x_nonzeros = 0\n",
    "    for i in range(len(x)):\n",
    "        if (float(x[i]) < 0.1):\n",
    "            x_rounded[i] = 0.0\n",
    "        else:\n",
    "            x_rounded[i] = float(x[i])\n",
    "            x_nonzeros += 1\n",
    "\n",
    "    return (x_rounded, x_nonzeros)\n",
    "\n",
    "# returns the ell_2 norm squared of Ax - b\n",
    "def least_squares_evaluate(A, x, b):\n",
    "    m = len(A)\n",
    "    n = len(A[0])\n",
    "    Ax = [0.0 for i in range(m)]\n",
    "    for i in range(m):\n",
    "        for j in range(n):\n",
    "            Ax[i] += (float(A[i][j]) * float(x[j]))\n",
    "    z = [0.0 for i in range(m)]\n",
    "    for i in range(m):\n",
    "        z[i] = Ax[i] - b[i]\n",
    "    value = 0.0\n",
    "    for i in range(m):\n",
    "        value += (float(z[i]) * float(z[i]))\n",
    "    return value"
   ]
  },
  {
   "cell_type": "code",
   "execution_count": 48,
   "metadata": {
    "collapsed": true
   },
   "outputs": [],
   "source": [
    "# solve the LASSO instances for varying gamma\n",
    "\n",
    "(A, b) = random_instance(16, 8) \n",
    "\n",
    "gamma_values = [x for x in gamma_range(0.1, 2.0, 0.1)]\n",
    "error_values = [0.0 for x in range(len(gamma_values))]\n",
    "num_nonzeros = [0 for x in range(len(gamma_values))]\n",
    "\n",
    "for i in range(len(gamma_values)):\n",
    "    (value, x, status) = solve_lasso(A, b, gamma_values[i])\n",
    "    (xnew, nnz) = round_down(x.value)\n",
    "    error_values[i] = least_squares_evaluate(A, xnew, b)\n",
    "    num_nonzeros[i] = nnz"
   ]
  },
  {
   "cell_type": "code",
   "execution_count": 49,
   "metadata": {},
   "outputs": [
    {
     "data": {
      "image/png": "[encoded data removed]",
      "text/plain": [
       "<matplotlib.figure.Figure at 0x10f4c5f98>"
      ]
     },
     "metadata": {},
     "output_type": "display_data"
    },
    {
     "data": {
      "image/png": "[encoded data removed]",
      "text/plain": [
       "<matplotlib.figure.Figure at 0x102229198>"
      ]
     },
     "metadata": {},
     "output_type": "display_data"
    }
   ],
   "source": [
    "# plot the results\n",
    "\n",
    "plt.figure()\n",
    "plt.plot(gamma_values, error_values)\n",
    "plt.title(\"LASSO error\")\n",
    "plt.xlabel(\"gamma\")\n",
    "plt.ylabel(\"error\")\n",
    "plt.show()\n",
    "\n",
    "plt.figure()\n",
    "plt.plot(gamma_values, num_nonzeros)\n",
    "plt.title(\"Number of non-zeros\")\n",
    "plt.xlabel(\"gamma\")\n",
    "plt.ylabel(\"non-zeros\")\n",
    "plt.show()"
   ]
  },
  {
   "cell_type": "code",
   "execution_count": null,
   "metadata": {
    "collapsed": true
   },
   "outputs": [],
   "source": []
  }
 ],
 "metadata": {
  "kernelspec": {
   "display_name": "Python 3",
   "language": "python",
   "name": "python3"
  },
  "language_info": {
   "codemirror_mode": {
    "name": "ipython",
    "version": 3
   },
   "file_extension": ".py",
   "mimetype": "text/x-python",
   "name": "python",
   "nbconvert_exporter": "python",
   "pygments_lexer": "ipython3",
   "version": "3.7.2"
  }
 },
 "nbformat": 4,
 "nbformat_minor": 2
}
