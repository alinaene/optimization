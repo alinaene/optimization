{
 "cells": [
  {
   "cell_type": "code",
   "execution_count": null,
   "metadata": {},
   "outputs": [],
   "source": [
    "# CS 531 Spring 2020\n",
    "# Author: Alina Ene (aene@bu.edu)"
   ]
  },
  {
   "cell_type": "markdown",
   "metadata": {},
   "source": [
    "# Quick Introduction to CVXPY"
   ]
  },
  {
   "cell_type": "markdown",
   "metadata": {},
   "source": [
    "[CVXPY](http://www.cvxpy.org/en/latest/index.html) is a Python-embedded modeling language for convex optimization problems. It allows you to express your problem in a natural way that follows the math, rather than in the restrictive standard form required by solvers.\n",
    "\n",
    "We have preloaded this Jupyter notebook with cvxpy, so you can get your hands dirty right away. Feel free to make changes to this notebook, as each time you open you will get a different instantiation."
   ]
  },
  {
   "cell_type": "markdown",
   "metadata": {},
   "source": [
    "## A Linear Program\n",
    "\n",
    "Let's start with a simple example of a Linear Program, i.e., an optimization problem with a linear objective and linear inequality constraints.\n",
    "\n",
    "$$\n",
    "\\begin{align}\n",
    "\\max  \\; & 140x + 235y\\\\\n",
    "\\textrm{s.t.}\\; & x + y \\leq 180,\\\\\n",
    " & x + 2y \\leq 240,\\\\\n",
    " & 3x + y \\leq 300\\\\\n",
    " & x \\geq 0, y \\geq 0.\n",
    "\\end{align}\n",
    "$$\n",
    "\n",
    "Here is how you code this up and solve it using CVXPY."
   ]
  },
  {
   "cell_type": "code",
   "execution_count": 4,
   "metadata": {},
   "outputs": [
    {
     "name": "stdout",
     "output_type": "stream",
     "text": [
      "status: optimal\n",
      "optimal value 29819.99998868062\n",
      "optimal var 71.99999982368747 84.00000005686968\n"
     ]
    }
   ],
   "source": [
    "import cvxpy as cvx\n",
    "import numpy\n",
    "\n",
    "# Create two scalar optimization variables\n",
    "x = cvx.Variable()\n",
    "y = cvx.Variable()\n",
    "\n",
    "# Create constraints\n",
    "constraints = [x >= 0,\n",
    "               y >= 0,\n",
    "               x + y <= 180,\n",
    "               x + 2*y <= 240,\n",
    "               3 * x + y <= 300]\n",
    "#constraints.append(x**2+2*y**2 >= 1)\n",
    "\n",
    "# Form objective\n",
    "obj = cvx.Maximize(140*x +235*y)\n",
    "\n",
    "# Form and solve problem.\n",
    "prob = cvx.Problem(obj, constraints)\n",
    "prob.solve()  \n",
    "\n",
    "print(\"status:\", prob.status)\n",
    "print(\"optimal value\", prob.value)\n",
    "print(\"optimal var\", x.value, y.value)"
   ]
  },
  {
   "cell_type": "markdown",
   "metadata": {
    "collapsed": true
   },
   "source": [
    "CVXPY makes it easy to change the problem formulation. For example, we can add the constraint\n",
    "$$\n",
    "x^2 + 2 y^2 \\leq 1\n",
    "$$\n",
    "and solve the problem again."
   ]
  },
  {
   "cell_type": "code",
   "execution_count": 3,
   "metadata": {},
   "outputs": [
    {
     "name": "stdout",
     "output_type": "stream",
     "text": [
      "status: optimal\n",
      "optimal value 217.28437599328154\n",
      "optimal var 0.6443237330141932 0.540761929239551\n"
     ]
    }
   ],
   "source": [
    "constraints.append(x**2+2*y**2 <= 1)\n",
    "\n",
    "prob = cvx.Problem(obj, constraints) \n",
    "prob.solve()\n",
    "\n",
    "print(\"status:\", prob.status) \n",
    "print(\"optimal value\", prob.value)\n",
    "print(\"optimal var\", x.value, y.value)"
   ]
  },
  {
   "cell_type": "markdown",
   "metadata": {},
   "source": [
    "What happens when we flip the sign of this additional quadratic constraint? Check it out. How do you explain it?"
   ]
  },
  {
   "cell_type": "markdown",
   "metadata": {},
   "source": [
    "# Least Squares Example\n",
    "\n",
    "Here is an important example that is both non-linear and unconstrained. Suppose you are trying to linearly fit dependent variables $$b$$ to independent variables $$A$$ by finding coefficents x that minimize some notion of size of $$Ax - b$$.\n",
    "\n",
    "A natural choice of size is the $\\ell_2$-norm:\n",
    "$$\n",
    "\\|Ax - b\\|^2 = (Ax - b)^T (Ax - b)\n",
    "$$\n",
    "This is called the least-squares problem."
   ]
  },
  {
   "cell_type": "code",
   "execution_count": 8,
   "metadata": {},
   "outputs": [
    {
     "name": "stdout",
     "output_type": "stream",
     "text": [
      "status: optimal\n",
      "optimal value 2.6191955785369934\n",
      "optimal var [[-0.08870161]\n",
      " [-0.01740214]\n",
      " [-0.62234509]\n",
      " [-0.11953367]\n",
      " [-0.30598701]\n",
      " [ 0.21610793]\n",
      " [ 0.22056393]\n",
      " [ 0.25699446]]\n"
     ]
    }
   ],
   "source": [
    "import numpy as np # used for random number generation\n",
    "m = 16\n",
    "n=8\n",
    "A = np.random.randn(m,n) # random problem instance\n",
    "b = np.random.randn(m,1)\n",
    "         \n",
    "x = cvx.Variable(n)\n",
    "\n",
    "obj = cvx.Minimize(cvx.norm(A*x - b))\n",
    "# obj = cvx.Maximize(cvx.norm(A*x - b)) # what do you think happens when we try to maximize the same objective?\n",
    "# obj = cvx.Minimize((A*x - b).T * (A*x-b)) # can you guess why this doesn't work?\n",
    "\n",
    "prob = cvx.Problem(obj)\n",
    "prob.solve() # Returns the optimal value.\n",
    "print(\"status:\", prob.status)\n",
    "print(\"optimal value\", prob.value)\n",
    "print(\"optimal var\", x.value)"
   ]
  },
  {
   "cell_type": "markdown",
   "metadata": {},
   "source": [
    "A variation of this is the LASSO-regularized least-squares problem, where the objective is:\n",
    "$$\n",
    "\\|Ax - b\\|^2 + \\rho \\cdot \\|x\\|_1^2\n",
    "$$\n",
    "with $\\rho \\geq 0.$"
   ]
  },
  {
   "cell_type": "code",
   "execution_count": 14,
   "metadata": {},
   "outputs": [
    {
     "name": "stdout",
     "output_type": "stream",
     "text": [
      "status: optimal\n",
      "optimal value 8.856469986787507\n",
      "optimal var [[-4.52259616e-09]\n",
      " [ 4.72078612e-10]\n",
      " [-3.07408321e-01]\n",
      " [ 3.92078552e-09]\n",
      " [-1.09734402e-02]\n",
      " [ 2.60893500e-08]\n",
      " [ 1.31620990e-01]\n",
      " [ 1.77467441e-01]]\n"
     ]
    }
   ],
   "source": [
    "rho = cvx.Parameter(sign=\"positive\", value=2)\n",
    "\n",
    "obj = cvx.Minimize((cvx.norm(A*x - b))**2+rho*(cvx.norm(x,1))**2)\n",
    "\n",
    "prob = cvx.Problem(obj)\n",
    "prob.solve() # Returns the optimal value.\n",
    "print(\"status:\", prob.status)\n",
    "print(\"optimal value\", prob.value)\n",
    "print(\"optimal var\", x.value)\n"
   ]
  },
  {
   "cell_type": "markdown",
   "metadata": {},
   "source": [
    "In the homework you will explore what happens as the parameter $\\rho$ changes."
   ]
  },
  {
   "cell_type": "markdown",
   "metadata": {},
   "source": [
    "# Constrained norm minimization\n",
    "\n",
    "Here is a more complicated problem:\n",
    "$$\n",
    "\\begin{align}\n",
    "\\min & \\; \\|Ax - b\\|\\\\\n",
    "\\textrm{s.t.} &\\;  Cx = d\\\\\n",
    "\\forall i &\\; x_i \\geq 0.1 \\\\\n",
    "&\\; \\|x\\|_\\infty \\leq 100\n",
    "\\end{align}\n",
    "$$"
   ]
  },
  {
   "cell_type": "code",
   "execution_count": 19,
   "metadata": {},
   "outputs": [
    {
     "name": "stdout",
     "output_type": "stream",
     "text": [
      "status: optimal\n",
      "optimal value 5.454341695961677\n",
      "optimal var [[0.01      ]\n",
      " [0.01      ]\n",
      " [1.03628336]\n",
      " [0.21510657]\n",
      " [0.01      ]\n",
      " [0.97597462]\n",
      " [0.96506556]\n",
      " [0.01      ]]\n"
     ]
    }
   ],
   "source": [
    "# Constrained norm minimization problem\n",
    "m = 16\n",
    "n=8\n",
    "p=4\n",
    "A = np.random.randn(m,n) \n",
    "b = np.random.randn(m,1)\n",
    "C = np.random.randn(p,n)\n",
    "d = np.random.randn(p,1)\n",
    "\n",
    "x = cvx.Variable(n)\n",
    "\n",
    "obj = cvx.Minimize(cvx.norm(A*x - b))\n",
    "\n",
    "constraints = [C*x == d, ,  # elementwise equality constraint\n",
    "               x >= .01,    # elementwise inequality constraint\n",
    "               cvx.norm(x,np.inf) <= 100] # cvx defines many built-in functions, such as the l_\\infty norm here\n",
    "\n",
    "prob = cvx.Problem(obj, constraints)\n",
    "prob.solve() b\n",
    "print(\"status:\", prob.status)\n",
    "print(\"optimal value\", prob.value) \n",
    "print(\"optimal var\", x.value)"
   ]
  },
  {
   "cell_type": "markdown",
   "metadata": {},
   "source": [
    "# An infeasible problem\n",
    "\n",
    "Here is a simple 2-D problem:\n",
    "$$\n",
    "\\begin{align}\n",
    "\\min & \\; x+y\\\\\n",
    "\\textrm{s.t.} &\\;  x+y \\leq -5\\\\\n",
    "&\\; x^2 + y^2 \\leq 1 \\\\\n",
    "\\end{align}\n",
    "$$\n",
    "\n",
    "Can you explain the output of the solver below? What happens as you change the right hand side of the second constraint?"
   ]
  },
  {
   "cell_type": "code",
   "execution_count": null,
   "metadata": {
    "collapsed": true
   },
   "outputs": [],
   "source": [
    "# An infeasible problem \n",
    "x = cvx.Variable()\n",
    "y = cvx.Variable()\n",
    "\n",
    "obj = cvx.Minimize(x+y)\n",
    "constraints = [x + y <= -5, x**2 + y**2 < 1\n",
    "]\n",
    "prob = cvx.Problem(obj, constraints) prob.solve() # Returns the optimal value. print(\"status:\", prob.status) print(\"optimal value\", prob.value) print(\"optimal var\", x.value)"
   ]
  },
  {
   "cell_type": "markdown",
   "metadata": {},
   "source": [
    "# Disciplined Convex Programming\n",
    "\n",
    "http://dcp.stanford.edu/home"
   ]
  }
 ],
 "metadata": {
  "anaconda-cloud": {},
  "kernelspec": {
   "display_name": "Python 3",
   "language": "python",
   "name": "python3"
  },
  "language_info": {
   "codemirror_mode": {
    "name": "ipython",
    "version": 3
   },
   "file_extension": ".py",
   "mimetype": "text/x-python",
   "name": "python",
   "nbconvert_exporter": "python",
   "pygments_lexer": "ipython3",
   "version": "3.7.2"
  },
  "latex_envs": {
   "LaTeX_envs_menu_present": true,
   "autocomplete": false,
   "bibliofile": "biblio.bib",
   "cite_by": "apalike",
   "current_citInitial": 1,
   "eqLabelWithNumbers": true,
   "eqNumInitial": 1,
   "hotkeys": {
    "equation": "Ctrl-E",
    "itemize": "Ctrl-I"
   },
   "labels_anchors": true,
   "latex_user_defs": true,
   "report_style_numbering": false,
   "user_envs_cfg": true
  }
 },
 "nbformat": 4,
 "nbformat_minor": 1
}
